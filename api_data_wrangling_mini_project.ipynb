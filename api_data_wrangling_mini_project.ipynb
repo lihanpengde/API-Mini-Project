{
 "cells": [
  {
   "cell_type": "markdown",
   "metadata": {},
   "source": [
    "This exercise will require you to pull some data from the Qunadl API. Qaundl is currently the most widely used aggregator of financial market data."
   ]
  },
  {
   "cell_type": "markdown",
   "metadata": {},
   "source": [
    "As a first step, you will need to register a free account on the http://www.quandl.com website."
   ]
  },
  {
   "cell_type": "markdown",
   "metadata": {},
   "source": [
    "After you register, you will be provided with a unique API key, that you should store:"
   ]
  },
  {
   "cell_type": "code",
   "execution_count": 72,
   "metadata": {},
   "outputs": [],
   "source": [
    "# Store the API key as a string - according to PEP8, constants are always named in all upper case\n",
    "API_KEY = 'Key_Removed'"
   ]
  },
  {
   "cell_type": "markdown",
   "metadata": {},
   "source": [
    "Qaundl has a large number of data sources, but, unfortunately, most of them require a Premium subscription. Still, there are also a good number of free datasets."
   ]
  },
  {
   "cell_type": "markdown",
   "metadata": {},
   "source": [
    "For this mini project, we will focus on equities data from the Frankfurt Stock Exhange (FSE), which is available for free. We'll try and analyze the stock prices of a company called Carl Zeiss Meditec, which manufactures tools for eye examinations, as well as medical lasers for laser eye surgery: https://www.zeiss.com/meditec/int/home.html. The company is listed under the stock ticker AFX_X."
   ]
  },
  {
   "cell_type": "markdown",
   "metadata": {},
   "source": [
    "You can find the detailed Quandl API instructions here: https://docs.quandl.com/docs/time-series"
   ]
  },
  {
   "cell_type": "markdown",
   "metadata": {},
   "source": [
    "While there is a dedicated Python package for connecting to the Quandl API, we would prefer that you use the *requests* package, which can be easily downloaded using *pip* or *conda*. You can find the documentation for the package here: http://docs.python-requests.org/en/master/ "
   ]
  },
  {
   "cell_type": "markdown",
   "metadata": {},
   "source": [
    "Finally, apart from the *requests* package, you are encouraged to not use any third party Python packages, such as *pandas*, and instead focus on what's available in the Python Standard Library (the *collections* module might come in handy: https://pymotw.com/3/collections/ ).\n",
    "Also, since you won't have access to DataFrames, you are encouraged to us Python's native data structures - preferably dictionaries, though some questions can also be answered using lists.\n",
    "You can read more on these data structures here: https://docs.python.org/3/tutorial/datastructures.html"
   ]
  },
  {
   "cell_type": "markdown",
   "metadata": {},
   "source": [
    "Keep in mind that the JSON responses you will be getting from the API map almost one-to-one to Python's dictionaries. Unfortunately, they can be very nested, so make sure you read up on indexing dictionaries in the documentation provided above."
   ]
  },
  {
   "cell_type": "code",
   "execution_count": 73,
   "metadata": {},
   "outputs": [],
   "source": [
    "# First, import the relevant modules\n",
    "import requests\n",
    "import json\n",
    "import numpy as np"
   ]
  },
  {
   "cell_type": "code",
   "execution_count": 74,
   "metadata": {},
   "outputs": [
    {
     "name": "stdout",
     "output_type": "stream",
     "text": [
      "['2018-03-27', 156.31, 162.85, 150.75, 152.19, 76787884.0, 0.0, 1.0, 156.31, 162.85, 150.75, 152.19, 76787884.0]\n"
     ]
    }
   ],
   "source": [
    "# Now, call the Quandl API and pull out a small sample of the data (only one day) to get a glimpse\n",
    "# into the JSON structure that will be returned\n",
    "url = \"https://www.quandl.com/api/v3/datasets/WIKI/FB/data.json?api_key=A8rj6npdZp8Si6uR1Z4t\"\n",
    "res = requests.get(url)\n",
    "json=res.json()\n",
    "print(json['dataset_data']['data'][0])"
   ]
  },
  {
   "cell_type": "code",
   "execution_count": 75,
   "metadata": {},
   "outputs": [
    {
     "name": "stdout",
     "output_type": "stream",
     "text": [
      "[['2018-03-27', 156.31, 162.85, 150.75, 152.19, 76787884.0, 0.0, 1.0, 156.31, 162.85, 150.75, 152.19, 76787884.0], ['2018-03-26', 160.82, 161.1, 149.02, 160.06, 125438294.0, 0.0, 1.0, 160.82, 161.1, 149.02, 160.06, 125438294.0], ['2018-03-23', 165.44, 167.1, 159.02, 159.39, 52306891.0, 0.0, 1.0, 165.44, 167.1, 159.02, 159.39, 52306891.0], ['2018-03-22', 166.13, 170.27, 163.72, 164.89, 73389988.0, 0.0, 1.0, 166.13, 170.27, 163.72, 164.89, 73389988.0], ['2018-03-21', 164.8, 173.4, 163.3, 169.39, 105350867.0, 0.0, 1.0, 164.8, 173.4, 163.3, 169.39, 105350867.0], ['2018-03-20', 167.47, 170.2, 161.95, 168.15, 128925534.0, 0.0, 1.0, 167.47, 170.2, 161.95, 168.15, 128925534.0], ['2018-03-19', 177.01, 177.17, 170.06, 172.56, 86897749.0, 0.0, 1.0, 177.01, 177.17, 170.06, 172.56, 86897749.0], ['2018-03-16', 184.49, 185.33, 183.41, 185.09, 23090480.0, 0.0, 1.0, 184.49, 185.33, 183.41, 185.09, 23090480.0], ['2018-03-15', 183.24, 184.0, 182.19, 183.86, 15461869.0, 0.0, 1.0, 183.24, 184.0, 182.19, 183.86, 15461869.0], ['2018-03-14', 182.6, 184.25, 181.85, 184.19, 16426843.0, 0.0, 1.0, 182.6, 184.25, 181.85, 184.19, 16426843.0]]\n",
      "['Date', 'Open', 'High', 'Low', 'Close', 'Volume', 'Ex-Dividend', 'Split Ratio', 'Adj. Open', 'Adj. High', 'Adj. Low', 'Adj. Close', 'Adj. Volume']\n"
     ]
    }
   ],
   "source": [
    "# Inspect the JSON structure of the object you created, and take note of how nested it is,\n",
    "# as well as the overall structure\n",
    "\n",
    "# 1. First inspection with its keys()\n",
    "json.keys()\n",
    "# return dict_keys(['dataset_data'])\n",
    "# 2. Second insepection with keys of 'dataset_data'\n",
    "json['dataset_data'].keys()\n",
    "# return dict_keys(['limit', 'transform', 'column_index', 'column_names', 'start_date', 'end_date', 'frequency', 'data', 'collapse', 'order'])\n",
    "# 3. Third insepction with values under data by our observation of print(json)\n",
    "print(json['dataset_data']['data'][0:10])\n",
    "# 4. Fouth inspection its columns to get an idea about what each value means\n",
    "print(json['dataset_data']['column_names'])"
   ]
  },
  {
   "cell_type": "markdown",
   "metadata": {},
   "source": [
    "These are your tasks for this mini project:\n",
    "\n",
    "1. Collect data from the Franfurt Stock Exchange, for the ticker AFX_X, for the whole year 2017 (keep in mind that the date format is YYYY-MM-DD).\n",
    "2. Convert the returned JSON object into a Python dictionary.\n",
    "3. Calculate what the highest and lowest opening prices were for the stock in this period.\n",
    "4. What was the largest change in any one day (based on High and Low price)?\n",
    "5. What was the largest change between any two days (based on Closing Price)?\n",
    "6. What was the average daily trading volume during this year?\n",
    "7. (Optional) What was the median trading volume during this year. (Note: you may need to implement your own function for calculating the median.)"
   ]
  },
  {
   "cell_type": "code",
   "execution_count": 78,
   "metadata": {},
   "outputs": [
    {
     "name": "stdout",
     "output_type": "stream",
     "text": [
      "192.04\n",
      "18.08\n",
      "17.379999999999995\n"
     ]
    }
   ],
   "source": [
    "#1 Collect data from the Franfurt Stock Exchange, for the ticker AFX_X, for the whole year 2017 \n",
    "# (keep in mind that the date format is YYYY-MM-DD)\n",
    "url= \"https://www.quandl.com/api/v3/datasets/WIKI/FB.json?column_index=4&start_date=2017-01-01&end_date=2017-12-31&collapse=monthly&transform=rdiff&api_key=A8rj6npdZp8Si6uR1Z4t\"\n",
    "r = requests.get(url)\n",
    "\n",
    "#2 Convert the returned JSON object into a Python dictionary.\n",
    "json_data = r.json() # return <class 'dict'>\n",
    "\n",
    "#3 Calculate what the highest and lowest opening prices were for the stock in this period.\n",
    "data = json['dataset_data']['data']\n",
    "open_list = []\n",
    "for i in data:\n",
    "    open_list.append(i[1])\n",
    "print(max(open_list)) #Highest open price\n",
    "print(min(open_list)) #lowest open price\n",
    "\n",
    "#4 What was the largest change in any one day (based on High and Low price)?\n",
    "high_list = []\n",
    "low_list = []\n",
    "for i in data:\n",
    "    high_list.append(i[2])\n",
    "    low_list.append(i[3])\n",
    "np_low = np.array(low_list)\n",
    "np_high = np.array(high_list)\n",
    "print(np.max(np_high-np_low)) # The largest change in any one day"
   ]
  },
  {
   "cell_type": "code",
   "execution_count": 79,
   "metadata": {},
   "outputs": [
    {
     "name": "stdout",
     "output_type": "stream",
     "text": [
      "175.361\n"
     ]
    }
   ],
   "source": [
    "#5 What was the largest change between any two days (based on Closing Price)?\n",
    "close_price = []\n",
    "for i in data:\n",
    "    close_price.append(i[4])\n",
    "np_close = np.array(close_price)\n",
    "largest_change = np.max(np_close) - np.min(np_close)\n",
    "print(largest_change)#The largest change between any two days (based on Closing Price)"
   ]
  },
  {
   "cell_type": "code",
   "execution_count": 82,
   "metadata": {},
   "outputs": [
    {
     "name": "stdout",
     "output_type": "stream",
     "text": [
      "The average daily trading volume during this year is 37195868.46399456\n"
     ]
    }
   ],
   "source": [
    "#6 What was the average daily trading volume during this year?\n",
    "volumes=[]\n",
    "for i in data:\n",
    "    volumes.append(i[5])\n",
    "np_volumes = np.array(volumes)\n",
    "print('The average daily trading volume during this year is {}'.format(np.mean(np_volumes)))"
   ]
  },
  {
   "cell_type": "code",
   "execution_count": 83,
   "metadata": {},
   "outputs": [
    {
     "name": "stdout",
     "output_type": "stream",
     "text": [
      "27181189.5\n"
     ]
    }
   ],
   "source": [
    "#7 (Optional) What was the median trading volume during this year. \n",
    "# (Note: you may need to implement your own function for calculating the median.)\n",
    "print(np.median(np_volumes))"
   ]
  },
  {
   "cell_type": "code",
   "execution_count": null,
   "metadata": {},
   "outputs": [],
   "source": []
  }
 ],
 "metadata": {
  "kernelspec": {
   "display_name": "Python 3",
   "language": "python",
   "name": "python3"
  },
  "language_info": {
   "codemirror_mode": {
    "name": "ipython",
    "version": 3
   },
   "file_extension": ".py",
   "mimetype": "text/x-python",
   "name": "python",
   "nbconvert_exporter": "python",
   "pygments_lexer": "ipython3",
   "version": "3.8.5"
  }
 },
 "nbformat": 4,
 "nbformat_minor": 2
}
